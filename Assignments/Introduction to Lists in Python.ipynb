{
 "cells": [
  {
   "cell_type": "markdown",
   "id": "d2022c6e",
   "metadata": {},
   "source": [
    "### Reference : https://www.geeksforgeeks.org/python-list/\n",
    "### Video Tutorials: \n",
    "* https://www.youtube.com/watch?v=DHyul4IgRdE\n",
    "* https://www.youtube.com/watch?v=1Ej7ry6jacg"
   ]
  },
  {
   "cell_type": "code",
   "execution_count": 31,
   "id": "4f6ed876",
   "metadata": {},
   "outputs": [],
   "source": [
    "# Declaring a blank list\n",
    "mylist = []"
   ]
  },
  {
   "cell_type": "code",
   "execution_count": 32,
   "id": "162eedf5",
   "metadata": {},
   "outputs": [
    {
     "data": {
      "text/plain": [
       "[]"
      ]
     },
     "execution_count": 32,
     "metadata": {},
     "output_type": "execute_result"
    }
   ],
   "source": [
    "mylist"
   ]
  },
  {
   "cell_type": "code",
   "execution_count": 33,
   "id": "770c29a9",
   "metadata": {},
   "outputs": [],
   "source": [
    "# A numeric list\n",
    "num_list = [1, 2, 3, 4]"
   ]
  },
  {
   "cell_type": "code",
   "execution_count": 35,
   "id": "e2a006ba",
   "metadata": {},
   "outputs": [],
   "source": [
    "# A Character List\n",
    "char_list = ['Pallavi', 'Suchita', 'Aanchal', 'Anant']"
   ]
  },
  {
   "cell_type": "code",
   "execution_count": 37,
   "id": "2ef13570",
   "metadata": {},
   "outputs": [
    {
     "data": {
      "text/plain": [
       "[1, 2, 3, 4, 'Pallavi', 'Suchita', 'Aanchal', 'Anant']"
      ]
     },
     "execution_count": 37,
     "metadata": {},
     "output_type": "execute_result"
    }
   ],
   "source": [
    "# A mixed List\n",
    "mixed_list = num_list + char_list\n",
    "mixed_list"
   ]
  },
  {
   "cell_type": "code",
   "execution_count": 38,
   "id": "684f3fa5",
   "metadata": {},
   "outputs": [
    {
     "data": {
      "text/plain": [
       "8"
      ]
     },
     "execution_count": 38,
     "metadata": {},
     "output_type": "execute_result"
    }
   ],
   "source": [
    "# Length of a list\n",
    "len(mixed_list)"
   ]
  },
  {
   "cell_type": "code",
   "execution_count": 40,
   "id": "3aa6c4a6",
   "metadata": {},
   "outputs": [
    {
     "data": {
      "text/plain": [
       "'Pallavi'"
      ]
     },
     "execution_count": 40,
     "metadata": {},
     "output_type": "execute_result"
    }
   ],
   "source": [
    "# Accessing an element in List\n",
    "mixed_list[4]"
   ]
  },
  {
   "cell_type": "code",
   "execution_count": 44,
   "id": "cabc8a81",
   "metadata": {},
   "outputs": [
    {
     "data": {
      "text/plain": [
       "[1, 2, 3, 4]"
      ]
     },
     "execution_count": 44,
     "metadata": {},
     "output_type": "execute_result"
    }
   ],
   "source": [
    "# Slicing elements in List\n",
    "mixed_list[0:4]"
   ]
  },
  {
   "cell_type": "code",
   "execution_count": 45,
   "id": "f3e9d1de",
   "metadata": {},
   "outputs": [
    {
     "data": {
      "text/plain": [
       "[1, 2, 3, 4]"
      ]
     },
     "execution_count": 45,
     "metadata": {},
     "output_type": "execute_result"
    }
   ],
   "source": [
    "num_list"
   ]
  },
  {
   "cell_type": "code",
   "execution_count": 46,
   "id": "bf17570c",
   "metadata": {},
   "outputs": [
    {
     "name": "stdout",
     "output_type": "stream",
     "text": [
      "[1, 2, 3, 4, 5]\n"
     ]
    }
   ],
   "source": [
    "# Adding element to a list\n",
    "num_list.append(5)\n",
    "print(num_list)"
   ]
  },
  {
   "cell_type": "code",
   "execution_count": 47,
   "id": "96c22710",
   "metadata": {},
   "outputs": [
    {
     "name": "stdout",
     "output_type": "stream",
     "text": [
      "[99, 1, 2, 3, 4, 5]\n"
     ]
    }
   ],
   "source": [
    "# Adding element to a list at desired location\n",
    "num_list.insert(0, 99)\n",
    "print(num_list)"
   ]
  },
  {
   "cell_type": "code",
   "execution_count": 48,
   "id": "4fe82885",
   "metadata": {},
   "outputs": [
    {
     "name": "stdout",
     "output_type": "stream",
     "text": [
      "[99, 1, 2, 3, 4, 5, 11, 12, 13]\n"
     ]
    }
   ],
   "source": [
    "# Adding multiple elements to a list\n",
    "num_list.extend([11, 12, 13])\n",
    "print(num_list)"
   ]
  },
  {
   "cell_type": "code",
   "execution_count": 52,
   "id": "c7240952",
   "metadata": {},
   "outputs": [
    {
     "data": {
      "text/plain": [
       "[2, 3, 4, 5, 11, 13]"
      ]
     },
     "execution_count": 52,
     "metadata": {},
     "output_type": "execute_result"
    }
   ],
   "source": [
    "# remove an element\n",
    "num_list.remove(12)\n",
    "num_list"
   ]
  },
  {
   "cell_type": "code",
   "execution_count": 29,
   "id": "b1c465bc",
   "metadata": {},
   "outputs": [],
   "source": [
    "# comprehension in Python \n",
    "odd_numebers = [x for x in range(100) if x%2 == 1]"
   ]
  }
 ],
 "metadata": {
  "kernelspec": {
   "display_name": "Python 3",
   "language": "python",
   "name": "python3"
  },
  "language_info": {
   "codemirror_mode": {
    "name": "ipython",
    "version": 3
   },
   "file_extension": ".py",
   "mimetype": "text/x-python",
   "name": "python",
   "nbconvert_exporter": "python",
   "pygments_lexer": "ipython3",
   "version": "3.7.11"
  }
 },
 "nbformat": 4,
 "nbformat_minor": 5
}
